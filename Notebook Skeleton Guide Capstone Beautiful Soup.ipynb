{
 "cells": [
  {
   "cell_type": "markdown",
   "metadata": {},
   "source": [
    "# Capstone Webscrapping using BeautifulSoup\n",
    "\n",
    "This notebook contains guidances & tasks on the data processing for the application\n",
    "\n",
    "## background\n",
    "\n",
    "Project ini merupakan capstone project dari Algoritma Academy Data Analytics Specialization. Dalam project ini, dilakukan Webscraping menggunakan BeautifulSoup.Tujuan dari WebScraping ini adalah mengambil data Kurs USD selama 6 Bulan Terakhir yang selanjutnya akan kita analisis fluktuasi Harian/Mingguan/Bulanan serta perbandingan Value pada periode tertentu.\n",
    "\n",
    "## Requesting the Data and Creating a BeautifulSoup\n",
    "\n",
    "Let's begin with requesting the web from the site with `get` method."
   ]
  },
  {
   "cell_type": "code",
   "execution_count": 275,
   "metadata": {
    "ExecuteTime": {
     "end_time": "2020-01-13T05:12:23.275508Z",
     "start_time": "2020-01-13T05:12:20.009898Z"
    }
   },
   "outputs": [
    {
     "data": {
      "text/plain": [
       "<Response [200]>"
      ]
     },
     "execution_count": 275,
     "metadata": {},
     "output_type": "execute_result"
    }
   ],
   "source": [
    "import requests\n",
    "import pandas as pd\n",
    "\n",
    "url_get = requests.get('https://www.exchange-rates.org/history/IDR/USD/T')\n",
    "url_get"
   ]
  },
  {
   "cell_type": "markdown",
   "metadata": {},
   "source": [
    "To visualize what exactly you get from the `request.get`, we can use .content so ee what we exactly get, in here i slice it so it won't make our screen full of the html we get from the page. You can delete the slicing if you want to see what we fully get."
   ]
  },
  {
   "cell_type": "code",
   "execution_count": 276,
   "metadata": {
    "ExecuteTime": {
     "end_time": "2020-01-13T05:12:23.290648Z",
     "start_time": "2020-01-13T05:12:23.277650Z"
    }
   },
   "outputs": [
    {
     "data": {
      "text/plain": [
       "b'!DOCTYPE html>\\r\\n<!--[if lt IE 9]>\\r\\n<html class=\"no-js ie8 oldie\" lang=\"en\" xml:lang=\\'en\\'>\\r\\n<![endif]-->\\r\\n<!--[if gt IE 8]><!--><html class=\"no-js\" lang=\"en\" xml:lang=\\'en\\'><!--<![endif]-->\\r\\n<head>\\r\\n<title>USD to IDR exchange rate history</title>\\r\\n<meta http-equiv=\"X-UA-Compatible\" content=\"IE=edge\">\\r\\n<meta name=\"viewport\" content=\"width=device-width, initial-scale=1, maximum-scale=5\">\\r\\n<meta charset=\"utf-8\" /><meta http-equiv=\"Content-Type\" content=\"text/html; charset=utf-8\" />\\r\\n<base href=\"http'"
      ]
     },
     "execution_count": 276,
     "metadata": {},
     "output_type": "execute_result"
    }
   ],
   "source": [
    "url_get.content[1:500]"
   ]
  },
  {
   "cell_type": "markdown",
   "metadata": {},
   "source": [
    "As we can see we get a very unstructured and complex html, which actually contains the codes needed to show the webpages on your web browser. But we as human still confused what and where we can use that piece of code, so here where we use the beautifulsoup. Beautiful soup class will result a beautifulsoup object. Beautiful Soup transforms a complex HTML document into a complex tree of Python objects. \n",
    "\n",
    "Let's make Beautiful soup object and feel free to explore the object here."
   ]
  },
  {
   "cell_type": "code",
   "execution_count": 277,
   "metadata": {
    "ExecuteTime": {
     "end_time": "2020-01-13T05:12:23.808122Z",
     "start_time": "2020-01-13T05:12:23.292610Z"
    }
   },
   "outputs": [
    {
     "name": "stdout",
     "output_type": "stream",
     "text": [
      "<class 'bs4.BeautifulSoup'>\n"
     ]
    }
   ],
   "source": [
    "from bs4 import BeautifulSoup \n",
    "\n",
    "soup = BeautifulSoup(url_get.content,\"html.parser\")\n",
    "print(type(soup))"
   ]
  },
  {
   "cell_type": "code",
   "execution_count": 278,
   "metadata": {},
   "outputs": [
    {
     "name": "stdout",
     "output_type": "stream",
     "text": [
      "<!DOCTYPE html>\n",
      "<!--[if lt IE 9]>\n",
      "<html class=\"no-js ie8 oldie\" lang=\"en\" xml:lang='en'>\n",
      "<![endif]-->\n",
      "<!--[if gt IE 8]><!-->\n",
      "<html class=\"no-js\" lang=\"en\" xml:lang=\"en\">\n",
      " <!--<![endif]-->\n",
      " <head>\n",
      "  <title>\n",
      "   USD to IDR exchange rate history\n",
      "  </title>\n",
      "  <meta content=\"IE=edge\" http-equiv=\"X-UA-Compatible\"/>\n",
      "  <meta content=\"width=device-width, initial-scale=1, maximum-scale=5\" name=\"viewport\"/>\n",
      "  <meta charset=\"utf-8\">\n",
      "   <meta content=\"text/html; charset=utf-8\" http-equiv=\"Content-Type\">\n",
      "   \n"
     ]
    }
   ],
   "source": [
    "print(soup.prettify()[:500])"
   ]
  },
  {
   "cell_type": "markdown",
   "metadata": {},
   "source": [
    "## Finding the right key to scrap the data & Extracting the right information"
   ]
  },
  {
   "cell_type": "markdown",
   "metadata": {},
   "source": [
    "Find the key and put the key into the `.find()` Put all the exploring the right key at this cell. (please change this markdown with your explanation)"
   ]
  },
  {
   "cell_type": "markdown",
   "metadata": {},
   "source": [
    "Dari hasil script HTML halaman web, perlu dicari informasi yang ingin diambil (tabel historical kurs) :\n",
    "1. Inspect tabel dari halaman web\n",
    "2. Ambil 'tag' yang menunjukkan lokasi tabel seutuhnya"
   ]
  },
  {
   "cell_type": "code",
   "execution_count": 279,
   "metadata": {
    "ExecuteTime": {
     "end_time": "2020-01-13T05:12:23.878904Z",
     "start_time": "2020-01-13T05:12:23.854974Z"
    }
   },
   "outputs": [
    {
     "name": "stdout",
     "output_type": "stream",
     "text": [
      "table border=\"0\" cellpadding=\"0\" cellspacing=\"0\" class=\"history-rates-data\">\n",
      " <thead>\n",
      "  <tr>\n",
      "   <th class=\"ltr-bidi-fix\">\n",
      "    Date\n",
      "   </th>\n",
      "   <th class=\"ltr-bidi-fix\">\n",
      "    US Dollar to Indonesian Rupiah\n",
      "   </th>\n",
      "  </tr>\n",
      " </thead>\n",
      " <tbody>\n",
      "  <tr>\n",
      "   <td>\n",
      "    <a class=\"w\" href=\"/exchange-rate-history/usd-idr-2023-12-15\">\n",
      "     December 15, 2023\n",
      "    </a>\n",
      "    <a class=\"n\" href=\"/exchange-rate-history/usd-idr-2023-12-15\">\n",
      "     2023-12-15\n",
      "    </a>\n",
      "   </td>\n",
      "   <td>\n",
      "    <span class=\"w\">\n",
      "     <span clas\n"
     ]
    }
   ],
   "source": [
    "table = soup.find('table', attrs={'class':'history-rates-data'})\n",
    "print(table.prettify()[1:500])"
   ]
  },
  {
   "cell_type": "markdown",
   "metadata": {},
   "source": [
    "Finding row length."
   ]
  },
  {
   "cell_type": "code",
   "execution_count": 280,
   "metadata": {},
   "outputs": [
    {
     "data": {
      "text/plain": [
       "[<a class=\"w\" href=\"/exchange-rate-history/usd-idr-2023-12-15\">December 15, 2023</a>,\n",
       " <a class=\"w\" href=\"/exchange-rate-history/usd-idr-2023-12-14\">December 14, 2023</a>,\n",
       " <a class=\"w\" href=\"/exchange-rate-history/usd-idr-2023-12-13\">December 13, 2023</a>,\n",
       " <a class=\"w\" href=\"/exchange-rate-history/usd-idr-2023-12-12\">December 12, 2023</a>,\n",
       " <a class=\"w\" href=\"/exchange-rate-history/usd-idr-2023-12-11\">December 11, 2023</a>]"
      ]
     },
     "execution_count": 280,
     "metadata": {},
     "output_type": "execute_result"
    }
   ],
   "source": [
    "# mengambil Date\n",
    "table.find_all('a',attrs={'class':'w'})[:5]"
   ]
  },
  {
   "cell_type": "code",
   "execution_count": 281,
   "metadata": {},
   "outputs": [
    {
     "data": {
      "text/plain": [
       "[<span class=\"w\"><span class=\"nowrap\"><span class=\"currencySymbol\">$</span>1 =</span> <span class=\"nowrap\"><span class=\"currencySymbol\">Rp</span>15,529</span></span>,\n",
       " <span class=\"w\"><span class=\"nowrap\"><span class=\"currencySymbol\">$</span>1 =</span> <span class=\"nowrap\"><span class=\"currencySymbol\">Rp</span>15,476</span></span>,\n",
       " <span class=\"w\"><span class=\"nowrap\"><span class=\"currencySymbol\">$</span>1 =</span> <span class=\"nowrap\"><span class=\"currencySymbol\">Rp</span>15,360</span></span>,\n",
       " <span class=\"w\"><span class=\"nowrap\"><span class=\"currencySymbol\">$</span>1 =</span> <span class=\"nowrap\"><span class=\"currencySymbol\">Rp</span>15,576</span></span>,\n",
       " <span class=\"w\"><span class=\"nowrap\"><span class=\"currencySymbol\">$</span>1 =</span> <span class=\"nowrap\"><span class=\"currencySymbol\">Rp</span>15,653</span></span>]"
      ]
     },
     "execution_count": 281,
     "metadata": {},
     "output_type": "execute_result"
    }
   ],
   "source": [
    "# mengambil US Dollar to IDR\n",
    "table.find_all('span',attrs={'class':'w'})[:5]"
   ]
  },
  {
   "cell_type": "code",
   "execution_count": 282,
   "metadata": {},
   "outputs": [
    {
     "data": {
      "text/plain": [
       "130"
      ]
     },
     "execution_count": 282,
     "metadata": {},
     "output_type": "execute_result"
    }
   ],
   "source": [
    "# cari jumlah row/baris\n",
    "row = table.find_all('a',attrs={'class':'w'})\n",
    "row_length = len(row)\n",
    "row_length"
   ]
  },
  {
   "cell_type": "markdown",
   "metadata": {},
   "source": [
    "Do the scrapping process here\n",
    "\n",
    "Setelah ketemu pola yang akan kita gunakan untuk mengambil data yang dibutuhkan (yaitu hari dan kurs), kita akan ambil seluruh data pada all row dengan cara looping"
   ]
  },
  {
   "cell_type": "code",
   "execution_count": 283,
   "metadata": {
    "ExecuteTime": {
     "end_time": "2020-01-13T05:12:24.008256Z",
     "start_time": "2020-01-13T05:12:23.980358Z"
    }
   },
   "outputs": [
    {
     "data": {
      "text/plain": [
       "[('June 19, 2023', '$1 = Rp15,014'),\n",
       " ('June 20, 2023', '$1 = Rp15,015'),\n",
       " ('June 21, 2023', '$1 = Rp14,945'),\n",
       " ('June 22, 2023', '$1 = Rp14,939'),\n",
       " ('June 23, 2023', '$1 = Rp15,045'),\n",
       " ('June 26, 2023', '$1 = Rp15,045'),\n",
       " ('June 27, 2023', '$1 = Rp14,988'),\n",
       " ('June 28, 2023', '$1 = Rp14,985'),\n",
       " ('June 29, 2023', '$1 = Rp15,059'),\n",
       " ('June 30, 2023', '$1 = Rp15,040'),\n",
       " ('July 3, 2023', '$1 = Rp15,063'),\n",
       " ('July 4, 2023', '$1 = Rp15,020'),\n",
       " ('July 5, 2023', '$1 = Rp15,078'),\n",
       " ('July 6, 2023', '$1 = Rp15,178'),\n",
       " ('July 7, 2023', '$1 = Rp15,162'),\n",
       " ('July 10, 2023', '$1 = Rp15,187'),\n",
       " ('July 11, 2023', '$1 = Rp15,140'),\n",
       " ('July 12, 2023', '$1 = Rp14,935'),\n",
       " ('July 13, 2023', '$1 = Rp14,954'),\n",
       " ('July 14, 2023', '$1 = Rp15,003'),\n",
       " ('July 17, 2023', '$1 = Rp14,972'),\n",
       " ('July 18, 2023', '$1 = Rp14,989'),\n",
       " ('July 19, 2023', '$1 = Rp15,009'),\n",
       " ('July 20, 2023', '$1 = Rp15,056'),\n",
       " ('July 21, 2023', '$1 = Rp15,043'),\n",
       " ('July 24, 2023', '$1 = Rp15,022'),\n",
       " ('July 25, 2023', '$1 = Rp15,027'),\n",
       " ('July 26, 2023', '$1 = Rp15,009'),\n",
       " ('July 27, 2023', '$1 = Rp15,102'),\n",
       " ('July 28, 2023', '$1 = Rp15,107'),\n",
       " ('July 31, 2023', '$1 = Rp15,099'),\n",
       " ('August 1, 2023', '$1 = Rp15,121'),\n",
       " ('August 2, 2023', '$1 = Rp15,227'),\n",
       " ('August 3, 2023', '$1 = Rp15,148'),\n",
       " ('August 4, 2023', '$1 = Rp15,153'),\n",
       " ('August 7, 2023', '$1 = Rp15,225'),\n",
       " ('August 8, 2023', '$1 = Rp15,212'),\n",
       " ('August 9, 2023', '$1 = Rp15,214'),\n",
       " ('August 10, 2023', '$1 = Rp15,263'),\n",
       " ('August 11, 2023', '$1 = Rp15,324'),\n",
       " ('August 14, 2023', '$1 = Rp15,330'),\n",
       " ('August 15, 2023', '$1 = Rp15,318'),\n",
       " ('August 16, 2023', '$1 = Rp15,369'),\n",
       " ('August 17, 2023', '$1 = Rp15,343'),\n",
       " ('August 18, 2023', '$1 = Rp15,321'),\n",
       " ('August 21, 2023', '$1 = Rp15,325'),\n",
       " ('August 22, 2023', '$1 = Rp15,324'),\n",
       " ('August 23, 2023', '$1 = Rp15,301'),\n",
       " ('August 24, 2023', '$1 = Rp15,246'),\n",
       " ('August 25, 2023', '$1 = Rp15,298'),\n",
       " ('August 28, 2023', '$1 = Rp15,248'),\n",
       " ('August 29, 2023', '$1 = Rp15,202'),\n",
       " ('August 30, 2023', '$1 = Rp15,223'),\n",
       " ('August 31, 2023', '$1 = Rp15,225'),\n",
       " ('September 1, 2023', '$1 = Rp15,258'),\n",
       " ('September 4, 2023', '$1 = Rp15,230'),\n",
       " ('September 5, 2023', '$1 = Rp15,320'),\n",
       " ('September 6, 2023', '$1 = Rp15,340'),\n",
       " ('September 7, 2023', '$1 = Rp15,361'),\n",
       " ('September 8, 2023', '$1 = Rp15,382'),\n",
       " ('September 11, 2023', '$1 = Rp15,348'),\n",
       " ('September 12, 2023', '$1 = Rp15,358'),\n",
       " ('September 13, 2023', '$1 = Rp15,361'),\n",
       " ('September 14, 2023', '$1 = Rp15,402'),\n",
       " ('September 15, 2023', '$1 = Rp15,367'),\n",
       " ('September 18, 2023', '$1 = Rp15,373'),\n",
       " ('September 19, 2023', '$1 = Rp15,382'),\n",
       " ('September 20, 2023', '$1 = Rp15,368'),\n",
       " ('September 21, 2023', '$1 = Rp15,408'),\n",
       " ('September 22, 2023', '$1 = Rp15,357'),\n",
       " ('September 25, 2023', '$1 = Rp15,412'),\n",
       " ('September 26, 2023', '$1 = Rp15,493'),\n",
       " ('September 27, 2023', '$1 = Rp15,573'),\n",
       " ('September 28, 2023', '$1 = Rp15,473'),\n",
       " ('September 29, 2023', '$1 = Rp15,493'),\n",
       " ('October 2, 2023', '$1 = Rp15,538'),\n",
       " ('October 3, 2023', '$1 = Rp15,620'),\n",
       " ('October 4, 2023', '$1 = Rp15,596'),\n",
       " ('October 5, 2023', '$1 = Rp15,636'),\n",
       " ('October 6, 2023', '$1 = Rp15,648'),\n",
       " ('October 9, 2023', '$1 = Rp15,705'),\n",
       " ('October 10, 2023', '$1 = Rp15,716'),\n",
       " ('October 11, 2023', '$1 = Rp15,700'),\n",
       " ('October 12, 2023', '$1 = Rp15,750'),\n",
       " ('October 13, 2023', '$1 = Rp15,703'),\n",
       " ('October 16, 2023', '$1 = Rp15,676'),\n",
       " ('October 17, 2023', '$1 = Rp15,730'),\n",
       " ('October 18, 2023', '$1 = Rp15,824'),\n",
       " ('October 19, 2023', '$1 = Rp15,864'),\n",
       " ('October 20, 2023', '$1 = Rp15,879'),\n",
       " ('October 23, 2023', '$1 = Rp15,897'),\n",
       " ('October 24, 2023', '$1 = Rp15,869'),\n",
       " ('October 25, 2023', '$1 = Rp15,881'),\n",
       " ('October 26, 2023', '$1 = Rp15,927'),\n",
       " ('October 27, 2023', '$1 = Rp15,911'),\n",
       " ('October 30, 2023', '$1 = Rp15,854'),\n",
       " ('October 31, 2023', '$1 = Rp15,919'),\n",
       " ('November 1, 2023', '$1 = Rp15,899'),\n",
       " ('November 2, 2023', '$1 = Rp15,852'),\n",
       " ('November 3, 2023', '$1 = Rp15,589'),\n",
       " ('November 6, 2023', '$1 = Rp15,577'),\n",
       " ('November 7, 2023', '$1 = Rp15,651'),\n",
       " ('November 8, 2023', '$1 = Rp15,625'),\n",
       " ('November 9, 2023', '$1 = Rp15,715'),\n",
       " ('November 10, 2023', '$1 = Rp15,694'),\n",
       " ('November 13, 2023', '$1 = Rp15,683'),\n",
       " ('November 14, 2023', '$1 = Rp15,459'),\n",
       " ('November 15, 2023', '$1 = Rp15,519'),\n",
       " ('November 16, 2023', '$1 = Rp15,484'),\n",
       " ('November 17, 2023', '$1 = Rp15,424'),\n",
       " ('November 20, 2023', '$1 = Rp15,389'),\n",
       " ('November 21, 2023', '$1 = Rp15,517'),\n",
       " ('November 22, 2023', '$1 = Rp15,656'),\n",
       " ('November 23, 2023', '$1 = Rp15,633'),\n",
       " ('November 24, 2023', '$1 = Rp15,540'),\n",
       " ('November 27, 2023', '$1 = Rp15,505'),\n",
       " ('November 28, 2023', '$1 = Rp15,352'),\n",
       " ('November 29, 2023', '$1 = Rp15,459'),\n",
       " ('November 30, 2023', '$1 = Rp15,559'),\n",
       " ('December 1, 2023', '$1 = Rp15,413'),\n",
       " ('December 4, 2023', '$1 = Rp15,485'),\n",
       " ('December 5, 2023', '$1 = Rp15,463'),\n",
       " ('December 6, 2023', '$1 = Rp15,514'),\n",
       " ('December 7, 2023', '$1 = Rp15,507'),\n",
       " ('December 8, 2023', '$1 = Rp15,573'),\n",
       " ('December 11, 2023', '$1 = Rp15,653'),\n",
       " ('December 12, 2023', '$1 = Rp15,576'),\n",
       " ('December 13, 2023', '$1 = Rp15,360'),\n",
       " ('December 14, 2023', '$1 = Rp15,476')]"
      ]
     },
     "execution_count": 283,
     "metadata": {},
     "output_type": "execute_result"
    }
   ],
   "source": [
    "temp = [] #initiating a tuple\n",
    "\n",
    "for i in range(1, row_length):\n",
    "\n",
    "    #ambil period\n",
    "    period = table.find_all('a', attrs={'class' : 'w'})[i].text\n",
    "    period = period.strip()\n",
    "\n",
    "    #ambil nominal kurs\n",
    "    kurs_usd = table.find_all('span', attrs={'class' : 'w'})[i].text\n",
    "    kurs_usd = kurs_usd.strip()\n",
    "\n",
    "    temp.append((period, kurs_usd))\n",
    "\n",
    "# urutan ascending \n",
    "temp = temp[::-1]\n",
    "temp "
   ]
  },
  {
   "cell_type": "markdown",
   "metadata": {},
   "source": [
    "## Creating data frame & Data wrangling"
   ]
  },
  {
   "cell_type": "markdown",
   "metadata": {},
   "source": [
    "Put the array into dataframe"
   ]
  },
  {
   "cell_type": "code",
   "execution_count": 284,
   "metadata": {
    "ExecuteTime": {
     "end_time": "2020-01-13T05:12:41.517372Z",
     "start_time": "2020-01-13T05:12:29.130015Z"
    }
   },
   "outputs": [
    {
     "data": {
      "text/html": [
       "<div>\n",
       "<style scoped>\n",
       "    .dataframe tbody tr th:only-of-type {\n",
       "        vertical-align: middle;\n",
       "    }\n",
       "\n",
       "    .dataframe tbody tr th {\n",
       "        vertical-align: top;\n",
       "    }\n",
       "\n",
       "    .dataframe thead th {\n",
       "        text-align: right;\n",
       "    }\n",
       "</style>\n",
       "<table border=\"1\" class=\"dataframe\">\n",
       "  <thead>\n",
       "    <tr style=\"text-align: right;\">\n",
       "      <th></th>\n",
       "      <th>period</th>\n",
       "      <th>kurs_usd</th>\n",
       "    </tr>\n",
       "  </thead>\n",
       "  <tbody>\n",
       "    <tr>\n",
       "      <th>0</th>\n",
       "      <td>June 19, 2023</td>\n",
       "      <td>$1 = Rp15,014</td>\n",
       "    </tr>\n",
       "    <tr>\n",
       "      <th>1</th>\n",
       "      <td>June 20, 2023</td>\n",
       "      <td>$1 = Rp15,015</td>\n",
       "    </tr>\n",
       "    <tr>\n",
       "      <th>2</th>\n",
       "      <td>June 21, 2023</td>\n",
       "      <td>$1 = Rp14,945</td>\n",
       "    </tr>\n",
       "    <tr>\n",
       "      <th>3</th>\n",
       "      <td>June 22, 2023</td>\n",
       "      <td>$1 = Rp14,939</td>\n",
       "    </tr>\n",
       "    <tr>\n",
       "      <th>4</th>\n",
       "      <td>June 23, 2023</td>\n",
       "      <td>$1 = Rp15,045</td>\n",
       "    </tr>\n",
       "  </tbody>\n",
       "</table>\n",
       "</div>"
      ],
      "text/plain": [
       "          period       kurs_usd\n",
       "0  June 19, 2023  $1 = Rp15,014\n",
       "1  June 20, 2023  $1 = Rp15,015\n",
       "2  June 21, 2023  $1 = Rp14,945\n",
       "3  June 22, 2023  $1 = Rp14,939\n",
       "4  June 23, 2023  $1 = Rp15,045"
      ]
     },
     "execution_count": 284,
     "metadata": {},
     "output_type": "execute_result"
    }
   ],
   "source": [
    "import pandas as pd\n",
    "\n",
    "df = pd.DataFrame(temp, columns = ('period','kurs_usd'))\n",
    "df.head()"
   ]
  },
  {
   "cell_type": "code",
   "execution_count": 285,
   "metadata": {},
   "outputs": [
    {
     "data": {
      "text/plain": [
       "period      object\n",
       "kurs_usd    object\n",
       "dtype: object"
      ]
     },
     "execution_count": 285,
     "metadata": {},
     "output_type": "execute_result"
    }
   ],
   "source": [
    "df.dtypes"
   ]
  },
  {
   "cell_type": "markdown",
   "metadata": {},
   "source": [
    "Do the data cleaning here\n",
    "1. Pastikan tipe data sudah benar. Dalam kasus ini, tipe data harus dirubah period -> datetime , kurs-> float64\n",
    "2. Namun untuk data kurs, data masih bercampur antara text dan nominal jadi harus di\"bersihkan\" dengan membuang text dan koma "
   ]
  },
  {
   "cell_type": "code",
   "execution_count": 286,
   "metadata": {
    "ExecuteTime": {
     "end_time": "2020-01-13T05:12:59.165559Z",
     "start_time": "2020-01-13T05:12:58.910012Z"
    }
   },
   "outputs": [
    {
     "data": {
      "text/html": [
       "<div>\n",
       "<style scoped>\n",
       "    .dataframe tbody tr th:only-of-type {\n",
       "        vertical-align: middle;\n",
       "    }\n",
       "\n",
       "    .dataframe tbody tr th {\n",
       "        vertical-align: top;\n",
       "    }\n",
       "\n",
       "    .dataframe thead th {\n",
       "        text-align: right;\n",
       "    }\n",
       "</style>\n",
       "<table border=\"1\" class=\"dataframe\">\n",
       "  <thead>\n",
       "    <tr style=\"text-align: right;\">\n",
       "      <th></th>\n",
       "      <th>period</th>\n",
       "      <th>kurs_usd</th>\n",
       "    </tr>\n",
       "  </thead>\n",
       "  <tbody>\n",
       "    <tr>\n",
       "      <th>0</th>\n",
       "      <td>2023-06-19</td>\n",
       "      <td>15014.0</td>\n",
       "    </tr>\n",
       "    <tr>\n",
       "      <th>1</th>\n",
       "      <td>2023-06-20</td>\n",
       "      <td>15015.0</td>\n",
       "    </tr>\n",
       "    <tr>\n",
       "      <th>2</th>\n",
       "      <td>2023-06-21</td>\n",
       "      <td>14945.0</td>\n",
       "    </tr>\n",
       "    <tr>\n",
       "      <th>3</th>\n",
       "      <td>2023-06-22</td>\n",
       "      <td>14939.0</td>\n",
       "    </tr>\n",
       "    <tr>\n",
       "      <th>4</th>\n",
       "      <td>2023-06-23</td>\n",
       "      <td>15045.0</td>\n",
       "    </tr>\n",
       "    <tr>\n",
       "      <th>...</th>\n",
       "      <td>...</td>\n",
       "      <td>...</td>\n",
       "    </tr>\n",
       "    <tr>\n",
       "      <th>124</th>\n",
       "      <td>2023-12-08</td>\n",
       "      <td>15573.0</td>\n",
       "    </tr>\n",
       "    <tr>\n",
       "      <th>125</th>\n",
       "      <td>2023-12-11</td>\n",
       "      <td>15653.0</td>\n",
       "    </tr>\n",
       "    <tr>\n",
       "      <th>126</th>\n",
       "      <td>2023-12-12</td>\n",
       "      <td>15576.0</td>\n",
       "    </tr>\n",
       "    <tr>\n",
       "      <th>127</th>\n",
       "      <td>2023-12-13</td>\n",
       "      <td>15360.0</td>\n",
       "    </tr>\n",
       "    <tr>\n",
       "      <th>128</th>\n",
       "      <td>2023-12-14</td>\n",
       "      <td>15476.0</td>\n",
       "    </tr>\n",
       "  </tbody>\n",
       "</table>\n",
       "<p>129 rows × 2 columns</p>\n",
       "</div>"
      ],
      "text/plain": [
       "        period  kurs_usd\n",
       "0   2023-06-19   15014.0\n",
       "1   2023-06-20   15015.0\n",
       "2   2023-06-21   14945.0\n",
       "3   2023-06-22   14939.0\n",
       "4   2023-06-23   15045.0\n",
       "..         ...       ...\n",
       "124 2023-12-08   15573.0\n",
       "125 2023-12-11   15653.0\n",
       "126 2023-12-12   15576.0\n",
       "127 2023-12-13   15360.0\n",
       "128 2023-12-14   15476.0\n",
       "\n",
       "[129 rows x 2 columns]"
      ]
     },
     "execution_count": 286,
     "metadata": {},
     "output_type": "execute_result"
    }
   ],
   "source": [
    "\n",
    "df_new = df.copy()\n",
    "\n",
    "# 1. ubah tipe data period\n",
    "df_new['period'] = df_new['period'].astype('datetime64[ns]')\n",
    "\n",
    "# 2. ambil nominal di kurs, ubah type data ke numerik\n",
    "df_new['kurs_usd'] = df_new['kurs_usd'].replace('\\$1 = Rp','',regex=True).replace(',','',regex=True)\n",
    "df_new['kurs_usd'] = df_new['kurs_usd'].astype('float64')\n",
    "df_new"
   ]
  },
  {
   "cell_type": "markdown",
   "metadata": {},
   "source": [
    "Data visualisation\n",
    "Tren pergerakan selama 6 bulan terakhir divisualisasikan menggunakan lineplot"
   ]
  },
  {
   "cell_type": "markdown",
   "metadata": {},
   "source": [
    "### Implementing your webscrapping to the flask dashboard\n",
    "\n",
    "- Copy paste all of your web scrapping process to the desired position on the `app.py`\n",
    "- Changing the title of the dasboard at `index.html`"
   ]
  },
  {
   "cell_type": "markdown",
   "metadata": {},
   "source": [
    "## Finishing This Notebook with Your Analysis and Conclusion\n",
    "\n",
    "First you can do start with making the data visualisation. "
   ]
  },
  {
   "cell_type": "code",
   "execution_count": 287,
   "metadata": {
    "ExecuteTime": {
     "end_time": "2020-01-13T05:20:56.208237Z",
     "start_time": "2020-01-13T05:20:56.076043Z"
    }
   },
   "outputs": [
    {
     "name": "stdout",
     "output_type": "stream",
     "text": [
      "['Solarize_Light2', '_classic_test_patch', '_mpl-gallery', '_mpl-gallery-nogrid', 'bmh', 'classic', 'dark_background', 'fast', 'fivethirtyeight', 'ggplot', 'grayscale', 'seaborn-v0_8', 'seaborn-v0_8-bright', 'seaborn-v0_8-colorblind', 'seaborn-v0_8-dark', 'seaborn-v0_8-dark-palette', 'seaborn-v0_8-darkgrid', 'seaborn-v0_8-deep', 'seaborn-v0_8-muted', 'seaborn-v0_8-notebook', 'seaborn-v0_8-paper', 'seaborn-v0_8-pastel', 'seaborn-v0_8-poster', 'seaborn-v0_8-talk', 'seaborn-v0_8-ticks', 'seaborn-v0_8-white', 'seaborn-v0_8-whitegrid', 'tableau-colorblind10']\n"
     ]
    }
   ],
   "source": [
    "import matplotlib.pyplot as plt\n",
    "print(plt.style.available)"
   ]
  },
  {
   "cell_type": "code",
   "execution_count": 288,
   "metadata": {},
   "outputs": [],
   "source": [
    "plt.style.use('seaborn-v0_8-paper')"
   ]
  },
  {
   "cell_type": "code",
   "execution_count": 289,
   "metadata": {},
   "outputs": [
    {
     "data": {
      "text/plain": [
       "<Axes: title={'center': 'Tren Pergerakan Kurs USD to IDR'}, xlabel='Time', ylabel='Kurs IDR'>"
      ]
     },
     "execution_count": 289,
     "metadata": {},
     "output_type": "execute_result"
    },
    {
     "data": {
      "image/png": "[encoded data removed]",
      "text/plain": [
       "<Figure size 640x440 with 1 Axes>"
      ]
     },
     "metadata": {},
     "output_type": "display_data"
    }
   ],
   "source": [
    "df_new = df_new.set_index('period')\n",
    "df_new.plot(\n",
    "            title= 'Tren Pergerakan Kurs USD to IDR',\n",
    "            xlabel= 'Time',\n",
    "            ylabel= 'Kurs IDR'\n",
    "            )"
   ]
  },
  {
   "cell_type": "code",
   "execution_count": 290,
   "metadata": {},
   "outputs": [
    {
     "data": {
      "text/html": [
       "<div>\n",
       "<style scoped>\n",
       "    .dataframe tbody tr th:only-of-type {\n",
       "        vertical-align: middle;\n",
       "    }\n",
       "\n",
       "    .dataframe tbody tr th {\n",
       "        vertical-align: top;\n",
       "    }\n",
       "\n",
       "    .dataframe thead th {\n",
       "        text-align: right;\n",
       "    }\n",
       "</style>\n",
       "<table border=\"1\" class=\"dataframe\">\n",
       "  <thead>\n",
       "    <tr style=\"text-align: right;\">\n",
       "      <th></th>\n",
       "      <th>kurs_usd</th>\n",
       "    </tr>\n",
       "  </thead>\n",
       "  <tbody>\n",
       "    <tr>\n",
       "      <th>count</th>\n",
       "      <td>129.000000</td>\n",
       "    </tr>\n",
       "    <tr>\n",
       "      <th>mean</th>\n",
       "      <td>15386.767442</td>\n",
       "    </tr>\n",
       "    <tr>\n",
       "      <th>std</th>\n",
       "      <td>270.314588</td>\n",
       "    </tr>\n",
       "    <tr>\n",
       "      <th>min</th>\n",
       "      <td>14935.000000</td>\n",
       "    </tr>\n",
       "    <tr>\n",
       "      <th>25%</th>\n",
       "      <td>15178.000000</td>\n",
       "    </tr>\n",
       "    <tr>\n",
       "      <th>50%</th>\n",
       "      <td>15367.000000</td>\n",
       "    </tr>\n",
       "    <tr>\n",
       "      <th>75%</th>\n",
       "      <td>15577.000000</td>\n",
       "    </tr>\n",
       "    <tr>\n",
       "      <th>max</th>\n",
       "      <td>15927.000000</td>\n",
       "    </tr>\n",
       "  </tbody>\n",
       "</table>\n",
       "</div>"
      ],
      "text/plain": [
       "           kurs_usd\n",
       "count    129.000000\n",
       "mean   15386.767442\n",
       "std      270.314588\n",
       "min    14935.000000\n",
       "25%    15178.000000\n",
       "50%    15367.000000\n",
       "75%    15577.000000\n",
       "max    15927.000000"
      ]
     },
     "execution_count": 290,
     "metadata": {},
     "output_type": "execute_result"
    }
   ],
   "source": [
    "df_new.describe()"
   ]
  },
  {
   "cell_type": "code",
   "execution_count": 291,
   "metadata": {},
   "outputs": [
    {
     "data": {
      "text/html": [
       "<div>\n",
       "<style scoped>\n",
       "    .dataframe tbody tr th:only-of-type {\n",
       "        vertical-align: middle;\n",
       "    }\n",
       "\n",
       "    .dataframe tbody tr th {\n",
       "        vertical-align: top;\n",
       "    }\n",
       "\n",
       "    .dataframe thead th {\n",
       "        text-align: right;\n",
       "    }\n",
       "</style>\n",
       "<table border=\"1\" class=\"dataframe\">\n",
       "  <thead>\n",
       "    <tr style=\"text-align: right;\">\n",
       "      <th></th>\n",
       "      <th>kurs_usd</th>\n",
       "    </tr>\n",
       "    <tr>\n",
       "      <th>period</th>\n",
       "      <th></th>\n",
       "    </tr>\n",
       "  </thead>\n",
       "  <tbody>\n",
       "    <tr>\n",
       "      <th>2023-10-26</th>\n",
       "      <td>15927.0</td>\n",
       "    </tr>\n",
       "    <tr>\n",
       "      <th>2023-10-31</th>\n",
       "      <td>15919.0</td>\n",
       "    </tr>\n",
       "    <tr>\n",
       "      <th>2023-10-27</th>\n",
       "      <td>15911.0</td>\n",
       "    </tr>\n",
       "    <tr>\n",
       "      <th>2023-11-01</th>\n",
       "      <td>15899.0</td>\n",
       "    </tr>\n",
       "    <tr>\n",
       "      <th>2023-10-23</th>\n",
       "      <td>15897.0</td>\n",
       "    </tr>\n",
       "  </tbody>\n",
       "</table>\n",
       "</div>"
      ],
      "text/plain": [
       "            kurs_usd\n",
       "period              \n",
       "2023-10-26   15927.0\n",
       "2023-10-31   15919.0\n",
       "2023-10-27   15911.0\n",
       "2023-11-01   15899.0\n",
       "2023-10-23   15897.0"
      ]
     },
     "execution_count": 291,
     "metadata": {},
     "output_type": "execute_result"
    }
   ],
   "source": [
    "# Kurs tertinggi\n",
    "df_new.sort_values(by='kurs_usd', ascending=False).head(5)"
   ]
  },
  {
   "cell_type": "code",
   "execution_count": 292,
   "metadata": {},
   "outputs": [
    {
     "data": {
      "text/html": [
       "<div>\n",
       "<style scoped>\n",
       "    .dataframe tbody tr th:only-of-type {\n",
       "        vertical-align: middle;\n",
       "    }\n",
       "\n",
       "    .dataframe tbody tr th {\n",
       "        vertical-align: top;\n",
       "    }\n",
       "\n",
       "    .dataframe thead th {\n",
       "        text-align: right;\n",
       "    }\n",
       "</style>\n",
       "<table border=\"1\" class=\"dataframe\">\n",
       "  <thead>\n",
       "    <tr style=\"text-align: right;\">\n",
       "      <th></th>\n",
       "      <th>kurs_usd</th>\n",
       "    </tr>\n",
       "    <tr>\n",
       "      <th>period</th>\n",
       "      <th></th>\n",
       "    </tr>\n",
       "  </thead>\n",
       "  <tbody>\n",
       "    <tr>\n",
       "      <th>2023-07-12</th>\n",
       "      <td>14935.0</td>\n",
       "    </tr>\n",
       "    <tr>\n",
       "      <th>2023-06-22</th>\n",
       "      <td>14939.0</td>\n",
       "    </tr>\n",
       "    <tr>\n",
       "      <th>2023-06-21</th>\n",
       "      <td>14945.0</td>\n",
       "    </tr>\n",
       "    <tr>\n",
       "      <th>2023-07-13</th>\n",
       "      <td>14954.0</td>\n",
       "    </tr>\n",
       "    <tr>\n",
       "      <th>2023-07-17</th>\n",
       "      <td>14972.0</td>\n",
       "    </tr>\n",
       "  </tbody>\n",
       "</table>\n",
       "</div>"
      ],
      "text/plain": [
       "            kurs_usd\n",
       "period              \n",
       "2023-07-12   14935.0\n",
       "2023-06-22   14939.0\n",
       "2023-06-21   14945.0\n",
       "2023-07-13   14954.0\n",
       "2023-07-17   14972.0"
      ]
     },
     "execution_count": 292,
     "metadata": {},
     "output_type": "execute_result"
    }
   ],
   "source": [
    "# Kurs terendah\n",
    "df_new.sort_values(by='kurs_usd', ascending=True).head(5)"
   ]
  },
  {
   "cell_type": "markdown",
   "metadata": {},
   "source": [
    "## Analysis and Conclusion\n",
    "\n",
    "1. Nilai mean di 6 bulan terakhir (Jul 23 - Des 23) adalah Rp15.388/USD.\n",
    "2. Nilai Rupiah mulai melemah (menurun) terhadap nilai USD dari bulan Juli 2023.\n",
    "3. Rupiah menyentuh angka terendah pada tanggal 12 Juli 2023 yaitu Rp14.935/USD.\n",
    "4. Rupiah menyentuh angka Rp15.927/USD pada tanggal 26 Oktober (peak).\n",
    "5. Pada tanggal 15 Des 2023, kurs Rupiah ditutup pada angka Rp15.529/USD."
   ]
  },
  {
   "cell_type": "markdown",
   "metadata": {},
   "source": [
    "### Implement it at the webapps\n",
    "\n",
    "- You can create additional analysis from the data.\n",
    "- Implement it to the dashboard with at `app.py` dan `index.html`."
   ]
  },
  {
   "cell_type": "code",
   "execution_count": 293,
   "metadata": {},
   "outputs": [],
   "source": [
    "# Simpan file\n",
    "df_new.to_pickle('ExchangeKursUSD') # python\n",
    "df_new.to_csv('ExchangeKursUSD.csv') # csv"
   ]
  }
 ],
 "metadata": {
  "kernelspec": {
   "display_name": "capstone_da",
   "language": "python",
   "name": "python3"
  },
  "language_info": {
   "codemirror_mode": {
    "name": "ipython",
    "version": 3
   },
   "file_extension": ".py",
   "mimetype": "text/x-python",
   "name": "python",
   "nbconvert_exporter": "python",
   "pygments_lexer": "ipython3",
   "version": "3.10.13"
  }
 },
 "nbformat": 4,
 "nbformat_minor": 2
}
